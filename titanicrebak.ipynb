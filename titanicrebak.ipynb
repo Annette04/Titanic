{
 "cells": [
  {
   "cell_type": "code",
   "execution_count": 1,
   "id": "6c3e1176",
   "metadata": {
    "_cell_guid": "b1076dfc-b9ad-4769-8c92-a6c4dae69d19",
    "_uuid": "8f2839f25d086af736a60e9eeb907d3b93b6e0e5",
    "execution": {
     "iopub.execute_input": "2024-10-22T09:24:37.073687Z",
     "iopub.status.busy": "2024-10-22T09:24:37.073126Z",
     "iopub.status.idle": "2024-10-22T09:24:37.924548Z",
     "shell.execute_reply": "2024-10-22T09:24:37.923283Z"
    },
    "papermill": {
     "duration": 0.862918,
     "end_time": "2024-10-22T09:24:37.927586",
     "exception": false,
     "start_time": "2024-10-22T09:24:37.064668",
     "status": "completed"
    },
    "tags": []
   },
   "outputs": [
    {
     "name": "stdout",
     "output_type": "stream",
     "text": [
      "/kaggle/input/mytitanic/Titanic.csv\n"
     ]
    }
   ],
   "source": [
    "# This Python 3 environment comes with many helpful analytics libraries installed\n",
    "# It is defined by the kaggle/python Docker image: https://github.com/kaggle/docker-python\n",
    "# For example, here's several helpful packages to load\n",
    "\n",
    "import numpy as np # linear algebra\n",
    "import pandas as pd # data processing, CSV file I/O (e.g. pd.read_csv)\n",
    "\n",
    "# Input data files are available in the read-only \"../input/\" directory\n",
    "# For example, running this (by clicking run or pressing Shift+Enter) will list all files under the input directory\n",
    "\n",
    "import os\n",
    "for dirname, _, filenames in os.walk('/kaggle/input'):\n",
    "    for filename in filenames:\n",
    "        print(os.path.join(dirname, filename))\n",
    "\n",
    "# You can write up to 20GB to the current directory (/kaggle/working/) that gets preserved as output when you create a version using \"Save & Run All\" \n",
    "# You can also write temporary files to /kaggle/temp/, but they won't be saved outside of the current session"
   ]
  },
  {
   "cell_type": "code",
   "execution_count": 2,
   "id": "2a89beba",
   "metadata": {
    "execution": {
     "iopub.execute_input": "2024-10-22T09:24:37.941437Z",
     "iopub.status.busy": "2024-10-22T09:24:37.940880Z",
     "iopub.status.idle": "2024-10-22T09:24:37.963099Z",
     "shell.execute_reply": "2024-10-22T09:24:37.962029Z"
    },
    "papermill": {
     "duration": 0.032167,
     "end_time": "2024-10-22T09:24:37.965728",
     "exception": false,
     "start_time": "2024-10-22T09:24:37.933561",
     "status": "completed"
    },
    "tags": []
   },
   "outputs": [],
   "source": [
    "df = pd.read_csv('/kaggle/input/mytitanic/Titanic.csv')"
   ]
  },
  {
   "cell_type": "code",
   "execution_count": 3,
   "id": "aba7b7c0",
   "metadata": {
    "execution": {
     "iopub.execute_input": "2024-10-22T09:24:37.978692Z",
     "iopub.status.busy": "2024-10-22T09:24:37.978274Z",
     "iopub.status.idle": "2024-10-22T09:24:38.004341Z",
     "shell.execute_reply": "2024-10-22T09:24:38.003001Z"
    },
    "papermill": {
     "duration": 0.035538,
     "end_time": "2024-10-22T09:24:38.006932",
     "exception": false,
     "start_time": "2024-10-22T09:24:37.971394",
     "status": "completed"
    },
    "tags": []
   },
   "outputs": [
    {
     "data": {
      "text/html": [
       "<div>\n",
       "<style scoped>\n",
       "    .dataframe tbody tr th:only-of-type {\n",
       "        vertical-align: middle;\n",
       "    }\n",
       "\n",
       "    .dataframe tbody tr th {\n",
       "        vertical-align: top;\n",
       "    }\n",
       "\n",
       "    .dataframe thead th {\n",
       "        text-align: right;\n",
       "    }\n",
       "</style>\n",
       "<table border=\"1\" class=\"dataframe\">\n",
       "  <thead>\n",
       "    <tr style=\"text-align: right;\">\n",
       "      <th></th>\n",
       "      <th>PassengerId</th>\n",
       "      <th>Survived</th>\n",
       "      <th>Pclass</th>\n",
       "      <th>Name</th>\n",
       "      <th>Sex</th>\n",
       "      <th>Age</th>\n",
       "      <th>SibSp</th>\n",
       "      <th>Parch</th>\n",
       "      <th>Ticket</th>\n",
       "      <th>Fare</th>\n",
       "      <th>Cabin</th>\n",
       "      <th>Embarked</th>\n",
       "    </tr>\n",
       "  </thead>\n",
       "  <tbody>\n",
       "    <tr>\n",
       "      <th>0</th>\n",
       "      <td>1</td>\n",
       "      <td>0</td>\n",
       "      <td>3</td>\n",
       "      <td>Braund, Mr. Owen Harris</td>\n",
       "      <td>male</td>\n",
       "      <td>22.0</td>\n",
       "      <td>1</td>\n",
       "      <td>0</td>\n",
       "      <td>A/5 21171</td>\n",
       "      <td>7.2500</td>\n",
       "      <td>NaN</td>\n",
       "      <td>S</td>\n",
       "    </tr>\n",
       "    <tr>\n",
       "      <th>1</th>\n",
       "      <td>2</td>\n",
       "      <td>1</td>\n",
       "      <td>1</td>\n",
       "      <td>Cumings, Mrs. John Bradley (Florence Briggs Th...</td>\n",
       "      <td>female</td>\n",
       "      <td>38.0</td>\n",
       "      <td>1</td>\n",
       "      <td>0</td>\n",
       "      <td>PC 17599</td>\n",
       "      <td>71.2833</td>\n",
       "      <td>C85</td>\n",
       "      <td>C</td>\n",
       "    </tr>\n",
       "    <tr>\n",
       "      <th>2</th>\n",
       "      <td>3</td>\n",
       "      <td>1</td>\n",
       "      <td>3</td>\n",
       "      <td>Heikkinen, Miss. Laina</td>\n",
       "      <td>female</td>\n",
       "      <td>26.0</td>\n",
       "      <td>0</td>\n",
       "      <td>0</td>\n",
       "      <td>STON/O2. 3101282</td>\n",
       "      <td>7.9250</td>\n",
       "      <td>NaN</td>\n",
       "      <td>S</td>\n",
       "    </tr>\n",
       "    <tr>\n",
       "      <th>3</th>\n",
       "      <td>4</td>\n",
       "      <td>1</td>\n",
       "      <td>1</td>\n",
       "      <td>Futrelle, Mrs. Jacques Heath (Lily May Peel)</td>\n",
       "      <td>female</td>\n",
       "      <td>35.0</td>\n",
       "      <td>1</td>\n",
       "      <td>0</td>\n",
       "      <td>113803</td>\n",
       "      <td>53.1000</td>\n",
       "      <td>C123</td>\n",
       "      <td>S</td>\n",
       "    </tr>\n",
       "    <tr>\n",
       "      <th>4</th>\n",
       "      <td>5</td>\n",
       "      <td>0</td>\n",
       "      <td>3</td>\n",
       "      <td>Allen, Mr. William Henry</td>\n",
       "      <td>male</td>\n",
       "      <td>35.0</td>\n",
       "      <td>0</td>\n",
       "      <td>0</td>\n",
       "      <td>373450</td>\n",
       "      <td>8.0500</td>\n",
       "      <td>NaN</td>\n",
       "      <td>S</td>\n",
       "    </tr>\n",
       "  </tbody>\n",
       "</table>\n",
       "</div>"
      ],
      "text/plain": [
       "   PassengerId  Survived  Pclass  \\\n",
       "0            1         0       3   \n",
       "1            2         1       1   \n",
       "2            3         1       3   \n",
       "3            4         1       1   \n",
       "4            5         0       3   \n",
       "\n",
       "                                                Name     Sex   Age  SibSp  \\\n",
       "0                            Braund, Mr. Owen Harris    male  22.0      1   \n",
       "1  Cumings, Mrs. John Bradley (Florence Briggs Th...  female  38.0      1   \n",
       "2                             Heikkinen, Miss. Laina  female  26.0      0   \n",
       "3       Futrelle, Mrs. Jacques Heath (Lily May Peel)  female  35.0      1   \n",
       "4                           Allen, Mr. William Henry    male  35.0      0   \n",
       "\n",
       "   Parch            Ticket     Fare Cabin Embarked  \n",
       "0      0         A/5 21171   7.2500   NaN        S  \n",
       "1      0          PC 17599  71.2833   C85        C  \n",
       "2      0  STON/O2. 3101282   7.9250   NaN        S  \n",
       "3      0            113803  53.1000  C123        S  \n",
       "4      0            373450   8.0500   NaN        S  "
      ]
     },
     "execution_count": 3,
     "metadata": {},
     "output_type": "execute_result"
    }
   ],
   "source": [
    "df.head()"
   ]
  },
  {
   "cell_type": "code",
   "execution_count": 4,
   "id": "8d04d366",
   "metadata": {
    "execution": {
     "iopub.execute_input": "2024-10-22T09:24:38.020755Z",
     "iopub.status.busy": "2024-10-22T09:24:38.020308Z",
     "iopub.status.idle": "2024-10-22T09:24:38.031187Z",
     "shell.execute_reply": "2024-10-22T09:24:38.030179Z"
    },
    "papermill": {
     "duration": 0.020678,
     "end_time": "2024-10-22T09:24:38.033613",
     "exception": false,
     "start_time": "2024-10-22T09:24:38.012935",
     "status": "completed"
    },
    "tags": []
   },
   "outputs": [
    {
     "data": {
      "text/plain": [
       "PassengerId      0\n",
       "Survived         0\n",
       "Pclass           0\n",
       "Name             0\n",
       "Sex              0\n",
       "Age            177\n",
       "SibSp            0\n",
       "Parch            0\n",
       "Ticket           0\n",
       "Fare             0\n",
       "Cabin          687\n",
       "Embarked         2\n",
       "dtype: int64"
      ]
     },
     "execution_count": 4,
     "metadata": {},
     "output_type": "execute_result"
    }
   ],
   "source": [
    "df.isnull().sum()"
   ]
  },
  {
   "cell_type": "code",
   "execution_count": 5,
   "id": "8f491f50",
   "metadata": {
    "execution": {
     "iopub.execute_input": "2024-10-22T09:24:38.047466Z",
     "iopub.status.busy": "2024-10-22T09:24:38.047049Z",
     "iopub.status.idle": "2024-10-22T09:24:39.846370Z",
     "shell.execute_reply": "2024-10-22T09:24:39.845200Z"
    },
    "papermill": {
     "duration": 1.809025,
     "end_time": "2024-10-22T09:24:39.848755",
     "exception": false,
     "start_time": "2024-10-22T09:24:38.039730",
     "status": "completed"
    },
    "tags": []
   },
   "outputs": [
    {
     "data": {
      "text/plain": [
       "<Axes: xlabel='Survived', ylabel='count'>"
      ]
     },
     "execution_count": 5,
     "metadata": {},
     "output_type": "execute_result"
    },
    {
     "data": {
      "image/png": "[encoded data removed]",
      "text/plain": [
       "<Figure size 640x480 with 1 Axes>"
      ]
     },
     "metadata": {},
     "output_type": "display_data"
    }
   ],
   "source": [
    "# Оценка выживаемости (0 - погибли, 1 - выжили)\n",
    "import matplotlib.pyplot as plt\n",
    "import seaborn as sns\n",
    "%matplotlib inline\n",
    "sns.countplot(x='Survived', data=df)"
   ]
  },
  {
   "cell_type": "code",
   "execution_count": 6,
   "id": "8e182fa9",
   "metadata": {
    "execution": {
     "iopub.execute_input": "2024-10-22T09:24:39.864345Z",
     "iopub.status.busy": "2024-10-22T09:24:39.863747Z",
     "iopub.status.idle": "2024-10-22T09:24:40.099999Z",
     "shell.execute_reply": "2024-10-22T09:24:40.098745Z"
    },
    "papermill": {
     "duration": 0.247416,
     "end_time": "2024-10-22T09:24:40.102481",
     "exception": false,
     "start_time": "2024-10-22T09:24:39.855065",
     "status": "completed"
    },
    "tags": []
   },
   "outputs": [
    {
     "data": {
      "text/plain": [
       "<Axes: xlabel='Survived', ylabel='count'>"
      ]
     },
     "execution_count": 6,
     "metadata": {},
     "output_type": "execute_result"
    },
    {
     "data": {
      "image/png": "[encoded data removed]",
      "text/plain": [
       "<Figure size 640x480 with 1 Axes>"
      ]
     },
     "metadata": {},
     "output_type": "display_data"
    }
   ],
   "source": [
    "# Оценка выживаемости с разделением по половым признакам (0 - погибли, 1 - выжили)\n",
    "sns.countplot(x='Survived', hue='Sex', data=df)\n",
    "# можно сделать вывод о том что погибших мужчин в разы больше чем выживших, \n",
    "# а колличество погибших женщин меньше чем выживших"
   ]
  },
  {
   "cell_type": "code",
   "execution_count": 7,
   "id": "6f64c98f",
   "metadata": {
    "execution": {
     "iopub.execute_input": "2024-10-22T09:24:40.117955Z",
     "iopub.status.busy": "2024-10-22T09:24:40.117443Z",
     "iopub.status.idle": "2024-10-22T09:24:40.352435Z",
     "shell.execute_reply": "2024-10-22T09:24:40.351246Z"
    },
    "papermill": {
     "duration": 0.245518,
     "end_time": "2024-10-22T09:24:40.354790",
     "exception": false,
     "start_time": "2024-10-22T09:24:40.109272",
     "status": "completed"
    },
    "tags": []
   },
   "outputs": [
    {
     "data": {
      "text/plain": [
       "<Axes: xlabel='Survived', ylabel='count'>"
      ]
     },
     "execution_count": 7,
     "metadata": {},
     "output_type": "execute_result"
    },
    {
     "data": {
      "image/png": "[encoded data removed]",
      "text/plain": [
       "<Figure size 640x480 with 1 Axes>"
      ]
     },
     "metadata": {},
     "output_type": "display_data"
    }
   ],
   "source": [
    "# Зависимость выживания от класса каюты (0 - погибли, 1 - выжили)\n",
    "sns.countplot(x='Survived', hue='Pclass', data=df)\n",
    "# Можно сдеть вывод, о том что число выживших из кают первого класса больше\n",
    "# второго класса приблизительно равно\n",
    "# третьего класса значительно меньше, чем погибших"
   ]
  },
  {
   "cell_type": "code",
   "execution_count": 8,
   "id": "fff0abe4",
   "metadata": {
    "execution": {
     "iopub.execute_input": "2024-10-22T09:24:40.371089Z",
     "iopub.status.busy": "2024-10-22T09:24:40.370660Z",
     "iopub.status.idle": "2024-10-22T09:24:40.892307Z",
     "shell.execute_reply": "2024-10-22T09:24:40.891219Z"
    },
    "papermill": {
     "duration": 0.532478,
     "end_time": "2024-10-22T09:24:40.894567",
     "exception": false,
     "start_time": "2024-10-22T09:24:40.362089",
     "status": "completed"
    },
    "tags": []
   },
   "outputs": [
    {
     "name": "stderr",
     "output_type": "stream",
     "text": [
      "/opt/conda/lib/python3.10/site-packages/seaborn/_oldcore.py:1119: FutureWarning: use_inf_as_na option is deprecated and will be removed in a future version. Convert inf values to NaN before operating instead.\n",
      "  with pd.option_context('mode.use_inf_as_na', True):\n",
      "/opt/conda/lib/python3.10/site-packages/seaborn/_oldcore.py:1119: FutureWarning: use_inf_as_na option is deprecated and will be removed in a future version. Convert inf values to NaN before operating instead.\n",
      "  with pd.option_context('mode.use_inf_as_na', True):\n"
     ]
    },
    {
     "data": {
      "image/png": "[encoded data removed]",
      "text/plain": [
       "<Figure size 1000x600 with 1 Axes>"
      ]
     },
     "metadata": {},
     "output_type": "display_data"
    }
   ],
   "source": [
    "# Выживыемость по возрасту\n",
    "plt.figure(figsize=(10, 6))\n",
    "sns.histplot(df[df['Survived'] == 1]['Age'], bins=30, color='green', label='Выжившие', kde=True)\n",
    "sns.histplot(df[df['Survived'] == 0]['Age'], bins=30, color='red', label='Не выжившие', kde=True)\n",
    "plt.legend()\n",
    "plt.show()\n",
    "# Можно сделать вывод о том, что больше шансов на выживание имели дети, \n",
    "# Люди среднего возраста имели приблизительно одинаковые шансы на выживание,\n",
    "# А люди в возрате имели меньше шансов на то чтобы выжить"
   ]
  },
  {
   "cell_type": "code",
   "execution_count": 9,
   "id": "32b85270",
   "metadata": {
    "execution": {
     "iopub.execute_input": "2024-10-22T09:24:40.912927Z",
     "iopub.status.busy": "2024-10-22T09:24:40.912495Z",
     "iopub.status.idle": "2024-10-22T09:24:41.194053Z",
     "shell.execute_reply": "2024-10-22T09:24:41.192898Z"
    },
    "papermill": {
     "duration": 0.293779,
     "end_time": "2024-10-22T09:24:41.196651",
     "exception": false,
     "start_time": "2024-10-22T09:24:40.902872",
     "status": "completed"
    },
    "tags": []
   },
   "outputs": [
    {
     "data": {
      "image/png": "[encoded data removed]",
      "text/plain": [
       "<Figure size 640x480 with 1 Axes>"
      ]
     },
     "metadata": {},
     "output_type": "display_data"
    }
   ],
   "source": [
    "# Выживыемость по количеству родственников на борту (0 - погибли, 1 - выжили)\n",
    "df['FamilySize'] = df['SibSp'] + df['Parch']\n",
    "sns.countplot(x='FamilySize', hue='Survived', data=df)\n",
    "plt.title('Выживаемость по количеству родственников')\n",
    "plt.show()\n",
    "# Можно сделать вывод о том , что люди имеющие от 1 до 3 родственников на борту имели больше шансов выжить"
   ]
  },
  {
   "cell_type": "code",
   "execution_count": 10,
   "id": "a5c0e172",
   "metadata": {
    "execution": {
     "iopub.execute_input": "2024-10-22T09:24:41.215538Z",
     "iopub.status.busy": "2024-10-22T09:24:41.215121Z",
     "iopub.status.idle": "2024-10-22T09:24:41.224391Z",
     "shell.execute_reply": "2024-10-22T09:24:41.223369Z"
    },
    "papermill": {
     "duration": 0.021482,
     "end_time": "2024-10-22T09:24:41.226676",
     "exception": false,
     "start_time": "2024-10-22T09:24:41.205194",
     "status": "completed"
    },
    "tags": []
   },
   "outputs": [],
   "source": [
    "# Добавление новых признаков\n",
    "df['IsChild'] = (df['Age'] < 12).astype(int)# Пассажир является ребенком до 12 лет\n",
    "df['IsAlone'] = ((df['SibSp'] + df['Parch']) == 0).astype(int)# Пассажир не имеет родственников на борту\n",
    "df['FarePerPerson'] = df['Fare'] / (df['FamilySize'] + 1)# Стоимость билета, деленная на количество членов семьи"
   ]
  },
  {
   "cell_type": "code",
   "execution_count": 11,
   "id": "0a3c0932",
   "metadata": {
    "execution": {
     "iopub.execute_input": "2024-10-22T09:24:41.245855Z",
     "iopub.status.busy": "2024-10-22T09:24:41.245461Z",
     "iopub.status.idle": "2024-10-22T09:24:41.440395Z",
     "shell.execute_reply": "2024-10-22T09:24:41.439236Z"
    },
    "papermill": {
     "duration": 0.20721,
     "end_time": "2024-10-22T09:24:41.442818",
     "exception": false,
     "start_time": "2024-10-22T09:24:41.235608",
     "status": "completed"
    },
    "tags": []
   },
   "outputs": [
    {
     "data": {
      "text/plain": [
       "<Axes: xlabel='Survived', ylabel='count'>"
      ]
     },
     "execution_count": 11,
     "metadata": {},
     "output_type": "execute_result"
    },
    {
     "data": {
      "image/png": "[encoded data removed]",
      "text/plain": [
       "<Figure size 640x480 with 1 Axes>"
      ]
     },
     "metadata": {},
     "output_type": "display_data"
    }
   ],
   "source": [
    "# Выживаемость в зависимости от того, является ли пассажир ребенком или нет\n",
    "sns.countplot(x='Survived', hue='IsChild', data=df) \n",
    "# Можно сделать вывод о том что колличество выживших детей ненамного, но больше чем колличество погибших"
   ]
  },
  {
   "cell_type": "code",
   "execution_count": 12,
   "id": "7b877510",
   "metadata": {
    "execution": {
     "iopub.execute_input": "2024-10-22T09:24:41.462625Z",
     "iopub.status.busy": "2024-10-22T09:24:41.462196Z",
     "iopub.status.idle": "2024-10-22T09:24:41.469619Z",
     "shell.execute_reply": "2024-10-22T09:24:41.468404Z"
    },
    "papermill": {
     "duration": 0.020345,
     "end_time": "2024-10-22T09:24:41.472237",
     "exception": false,
     "start_time": "2024-10-22T09:24:41.451892",
     "status": "completed"
    },
    "tags": []
   },
   "outputs": [],
   "source": [
    "df.isnull().sum()\n",
    "categorical_cols = df.select_dtypes(include=['object']).columns\n",
    "label_encoders = {}"
   ]
  },
  {
   "cell_type": "code",
   "execution_count": 13,
   "id": "3eea9192",
   "metadata": {
    "execution": {
     "iopub.execute_input": "2024-10-22T09:24:41.492093Z",
     "iopub.status.busy": "2024-10-22T09:24:41.491688Z",
     "iopub.status.idle": "2024-10-22T09:24:41.657605Z",
     "shell.execute_reply": "2024-10-22T09:24:41.656247Z"
    },
    "papermill": {
     "duration": 0.178886,
     "end_time": "2024-10-22T09:24:41.660277",
     "exception": false,
     "start_time": "2024-10-22T09:24:41.481391",
     "status": "completed"
    },
    "tags": []
   },
   "outputs": [],
   "source": [
    "from sklearn.preprocessing import LabelEncoder\n",
    "for col in categorical_cols:\n",
    "    le = LabelEncoder()\n",
    "    df[col] = le.fit_transform(df[col])\n",
    "    label_encoders[col] = le"
   ]
  },
  {
   "cell_type": "code",
   "execution_count": 14,
   "id": "f4c975e3",
   "metadata": {
    "execution": {
     "iopub.execute_input": "2024-10-22T09:24:41.680344Z",
     "iopub.status.busy": "2024-10-22T09:24:41.679354Z",
     "iopub.status.idle": "2024-10-22T09:24:41.689180Z",
     "shell.execute_reply": "2024-10-22T09:24:41.688146Z"
    },
    "papermill": {
     "duration": 0.022242,
     "end_time": "2024-10-22T09:24:41.691404",
     "exception": false,
     "start_time": "2024-10-22T09:24:41.669162",
     "status": "completed"
    },
    "tags": []
   },
   "outputs": [
    {
     "data": {
      "text/plain": [
       "PassengerId        0\n",
       "Survived           0\n",
       "Pclass             0\n",
       "Name               0\n",
       "Sex                0\n",
       "Age              177\n",
       "SibSp              0\n",
       "Parch              0\n",
       "Ticket             0\n",
       "Fare               0\n",
       "Cabin              0\n",
       "Embarked           0\n",
       "FamilySize         0\n",
       "IsChild            0\n",
       "IsAlone            0\n",
       "FarePerPerson      0\n",
       "dtype: int64"
      ]
     },
     "execution_count": 14,
     "metadata": {},
     "output_type": "execute_result"
    }
   ],
   "source": [
    "df.isnull().sum()"
   ]
  },
  {
   "cell_type": "code",
   "execution_count": 15,
   "id": "db4558f5",
   "metadata": {
    "execution": {
     "iopub.execute_input": "2024-10-22T09:24:41.711508Z",
     "iopub.status.busy": "2024-10-22T09:24:41.711082Z",
     "iopub.status.idle": "2024-10-22T09:24:41.719752Z",
     "shell.execute_reply": "2024-10-22T09:24:41.718591Z"
    },
    "papermill": {
     "duration": 0.022167,
     "end_time": "2024-10-22T09:24:41.722839",
     "exception": false,
     "start_time": "2024-10-22T09:24:41.700672",
     "status": "completed"
    },
    "tags": []
   },
   "outputs": [
    {
     "name": "stderr",
     "output_type": "stream",
     "text": [
      "/tmp/ipykernel_17/1527141296.py:1: FutureWarning: A value is trying to be set on a copy of a DataFrame or Series through chained assignment using an inplace method.\n",
      "The behavior will change in pandas 3.0. This inplace method will never work because the intermediate object on which we are setting values always behaves as a copy.\n",
      "\n",
      "For example, when doing 'df[col].method(value, inplace=True)', try using 'df.method({col: value}, inplace=True)' or df[col] = df[col].method(value) instead, to perform the operation inplace on the original object.\n",
      "\n",
      "\n",
      "  df['Age'].fillna(df['Age'].median(),inplace=True)\n"
     ]
    }
   ],
   "source": [
    "df['Age'].fillna(df['Age'].median(),inplace=True)"
   ]
  },
  {
   "cell_type": "code",
   "execution_count": 16,
   "id": "ee1b0282",
   "metadata": {
    "execution": {
     "iopub.execute_input": "2024-10-22T09:24:41.742789Z",
     "iopub.status.busy": "2024-10-22T09:24:41.742352Z",
     "iopub.status.idle": "2024-10-22T09:24:41.752371Z",
     "shell.execute_reply": "2024-10-22T09:24:41.751256Z"
    },
    "papermill": {
     "duration": 0.022656,
     "end_time": "2024-10-22T09:24:41.754631",
     "exception": false,
     "start_time": "2024-10-22T09:24:41.731975",
     "status": "completed"
    },
    "tags": []
   },
   "outputs": [
    {
     "data": {
      "text/plain": [
       "PassengerId      0\n",
       "Survived         0\n",
       "Pclass           0\n",
       "Name             0\n",
       "Sex              0\n",
       "Age              0\n",
       "SibSp            0\n",
       "Parch            0\n",
       "Ticket           0\n",
       "Fare             0\n",
       "Cabin            0\n",
       "Embarked         0\n",
       "FamilySize       0\n",
       "IsChild          0\n",
       "IsAlone          0\n",
       "FarePerPerson    0\n",
       "dtype: int64"
      ]
     },
     "execution_count": 16,
     "metadata": {},
     "output_type": "execute_result"
    }
   ],
   "source": [
    "df.isnull().sum()"
   ]
  },
  {
   "cell_type": "code",
   "execution_count": 17,
   "id": "f86f2182",
   "metadata": {
    "execution": {
     "iopub.execute_input": "2024-10-22T09:24:41.776160Z",
     "iopub.status.busy": "2024-10-22T09:24:41.775217Z",
     "iopub.status.idle": "2024-10-22T09:24:41.782420Z",
     "shell.execute_reply": "2024-10-22T09:24:41.781071Z"
    },
    "papermill": {
     "duration": 0.021057,
     "end_time": "2024-10-22T09:24:41.785089",
     "exception": false,
     "start_time": "2024-10-22T09:24:41.764032",
     "status": "completed"
    },
    "tags": []
   },
   "outputs": [],
   "source": [
    "X = df.drop(columns=['Survived'])\n",
    "y = df['Survived']"
   ]
  },
  {
   "cell_type": "code",
   "execution_count": 18,
   "id": "54dfd171",
   "metadata": {
    "execution": {
     "iopub.execute_input": "2024-10-22T09:24:41.805213Z",
     "iopub.status.busy": "2024-10-22T09:24:41.804778Z",
     "iopub.status.idle": "2024-10-22T09:24:58.272712Z",
     "shell.execute_reply": "2024-10-22T09:24:58.271237Z"
    },
    "papermill": {
     "duration": 16.480927,
     "end_time": "2024-10-22T09:24:58.275292",
     "exception": false,
     "start_time": "2024-10-22T09:24:41.794365",
     "status": "completed"
    },
    "tags": []
   },
   "outputs": [
    {
     "name": "stdout",
     "output_type": "stream",
     "text": [
      "Epoch 1/10\n"
     ]
    },
    {
     "name": "stderr",
     "output_type": "stream",
     "text": [
      "/opt/conda/lib/python3.10/site-packages/keras/src/layers/core/dense.py:87: UserWarning: Do not pass an `input_shape`/`input_dim` argument to a layer. When using Sequential models, prefer using an `Input(shape)` object as the first layer in the model instead.\n",
      "  super().__init__(activity_regularizer=activity_regularizer, **kwargs)\n"
     ]
    },
    {
     "name": "stdout",
     "output_type": "stream",
     "text": [
      "\u001b[1m18/18\u001b[0m \u001b[32m━━━━━━━━━━━━━━━━━━━━\u001b[0m\u001b[37m\u001b[0m \u001b[1m2s\u001b[0m 14ms/step - accuracy: 0.5110 - loss: 12.4080 - val_accuracy: 0.6713 - val_loss: 10.6916\n",
      "Epoch 2/10\n",
      "\u001b[1m18/18\u001b[0m \u001b[32m━━━━━━━━━━━━━━━━━━━━\u001b[0m\u001b[37m\u001b[0m \u001b[1m0s\u001b[0m 3ms/step - accuracy: 0.7024 - loss: 10.1922 - val_accuracy: 0.7413 - val_loss: 8.7457\n",
      "Epoch 3/10\n",
      "\u001b[1m18/18\u001b[0m \u001b[32m━━━━━━━━━━━━━━━━━━━━\u001b[0m\u001b[37m\u001b[0m \u001b[1m0s\u001b[0m 3ms/step - accuracy: 0.7562 - loss: 8.3224 - val_accuracy: 0.7552 - val_loss: 7.1302\n",
      "Epoch 4/10\n",
      "\u001b[1m18/18\u001b[0m \u001b[32m━━━━━━━━━━━━━━━━━━━━\u001b[0m\u001b[37m\u001b[0m \u001b[1m0s\u001b[0m 3ms/step - accuracy: 0.7734 - loss: 6.7898 - val_accuracy: 0.7622 - val_loss: 5.8039\n",
      "Epoch 5/10\n",
      "\u001b[1m18/18\u001b[0m \u001b[32m━━━━━━━━━━━━━━━━━━━━\u001b[0m\u001b[37m\u001b[0m \u001b[1m0s\u001b[0m 3ms/step - accuracy: 0.7938 - loss: 5.5406 - val_accuracy: 0.8042 - val_loss: 4.7237\n",
      "Epoch 6/10\n",
      "\u001b[1m18/18\u001b[0m \u001b[32m━━━━━━━━━━━━━━━━━━━━\u001b[0m\u001b[37m\u001b[0m \u001b[1m0s\u001b[0m 3ms/step - accuracy: 0.7935 - loss: 4.5098 - val_accuracy: 0.8112 - val_loss: 3.8445\n",
      "Epoch 7/10\n",
      "\u001b[1m18/18\u001b[0m \u001b[32m━━━━━━━━━━━━━━━━━━━━\u001b[0m\u001b[37m\u001b[0m \u001b[1m0s\u001b[0m 3ms/step - accuracy: 0.8085 - loss: 3.6934 - val_accuracy: 0.8322 - val_loss: 3.1335\n",
      "Epoch 8/10\n",
      "\u001b[1m18/18\u001b[0m \u001b[32m━━━━━━━━━━━━━━━━━━━━\u001b[0m\u001b[37m\u001b[0m \u001b[1m0s\u001b[0m 3ms/step - accuracy: 0.8486 - loss: 2.9688 - val_accuracy: 0.8392 - val_loss: 2.5620\n",
      "Epoch 9/10\n",
      "\u001b[1m18/18\u001b[0m \u001b[32m━━━━━━━━━━━━━━━━━━━━\u001b[0m\u001b[37m\u001b[0m \u001b[1m0s\u001b[0m 3ms/step - accuracy: 0.8225 - loss: 2.4565 - val_accuracy: 0.8322 - val_loss: 2.1022\n",
      "Epoch 10/10\n",
      "\u001b[1m18/18\u001b[0m \u001b[32m━━━━━━━━━━━━━━━━━━━━\u001b[0m\u001b[37m\u001b[0m \u001b[1m0s\u001b[0m 3ms/step - accuracy: 0.8440 - loss: 2.0012 - val_accuracy: 0.8531 - val_loss: 1.7375\n",
      "\u001b[1m6/6\u001b[0m \u001b[32m━━━━━━━━━━━━━━━━━━━━\u001b[0m\u001b[37m\u001b[0m \u001b[1m0s\u001b[0m 2ms/step - accuracy: 0.8424 - loss: 1.7535 \n",
      "Test Accuracy: 0.82\n"
     ]
    }
   ],
   "source": [
    "import numpy as np\n",
    "from sklearn.model_selection import train_test_split\n",
    "from sklearn.datasets import make_classification\n",
    "from sklearn.preprocessing import StandardScaler\n",
    "from keras.models import Sequential\n",
    "from keras.layers import Dense\n",
    "from keras.regularizers import l2 \n",
    "\n",
    "\n",
    "# Train-test split\n",
    "X_train, X_test, y_train, y_test = train_test_split(X, y, test_size=0.2, random_state=42)\n",
    "\n",
    "# Standardize the data\n",
    "scaler = StandardScaler()\n",
    "X_train = scaler.fit_transform(X_train)\n",
    "X_test = scaler.transform(X_test)\n",
    "\n",
    "# Create the neural network model\n",
    "model = Sequential()\n",
    "model.add(Dense(64, activation='relu', input_shape=(X_train.shape[1],), kernel_regularizer=l2(0.5)))\n",
    "model.add(Dense(32, activation='relu', input_shape=(X_train.shape[1],)))\n",
    "model.add(Dense(16, activation='relu'))\n",
    "model.add(Dense(1, activation='sigmoid'))\n",
    "\n",
    "# Compile the model\n",
    "model.compile(optimizer='adam', loss='binary_crossentropy', metrics=['accuracy'])\n",
    "\n",
    "# Train the model\n",
    "model.fit(X_train, y_train, epochs=10, batch_size=32, validation_split=0.2)\n",
    "\n",
    "# Evaluate the model\n",
    "loss, accuracy = model.evaluate(X_test, y_test)\n",
    "print(f'Test Accuracy: {accuracy:.2f}')\n"
   ]
  },
  {
   "cell_type": "code",
   "execution_count": 19,
   "id": "d944e3b9",
   "metadata": {
    "execution": {
     "iopub.execute_input": "2024-10-22T09:24:58.301894Z",
     "iopub.status.busy": "2024-10-22T09:24:58.301209Z",
     "iopub.status.idle": "2024-10-22T09:24:58.354234Z",
     "shell.execute_reply": "2024-10-22T09:24:58.353120Z"
    },
    "papermill": {
     "duration": 0.069467,
     "end_time": "2024-10-22T09:24:58.356605",
     "exception": false,
     "start_time": "2024-10-22T09:24:58.287138",
     "status": "completed"
    },
    "tags": []
   },
   "outputs": [
    {
     "data": {
      "text/plain": [
       "['fully-connected-model.pkl']"
      ]
     },
     "execution_count": 19,
     "metadata": {},
     "output_type": "execute_result"
    }
   ],
   "source": [
    "import joblib\n",
    "joblib.dump(model, 'fully-connected-model.pkl')"
   ]
  },
  {
   "cell_type": "code",
   "execution_count": 20,
   "id": "dfe2069a",
   "metadata": {
    "execution": {
     "iopub.execute_input": "2024-10-22T09:24:58.382358Z",
     "iopub.status.busy": "2024-10-22T09:24:58.381140Z",
     "iopub.status.idle": "2024-10-22T09:24:58.500685Z",
     "shell.execute_reply": "2024-10-22T09:24:58.499639Z"
    },
    "papermill": {
     "duration": 0.135247,
     "end_time": "2024-10-22T09:24:58.503419",
     "exception": false,
     "start_time": "2024-10-22T09:24:58.368172",
     "status": "completed"
    },
    "tags": []
   },
   "outputs": [],
   "source": [
    "model_loaded = joblib.load('fully-connected-model.pkl')"
   ]
  },
  {
   "cell_type": "code",
   "execution_count": 21,
   "id": "790d3f4b",
   "metadata": {
    "execution": {
     "iopub.execute_input": "2024-10-22T09:24:58.528445Z",
     "iopub.status.busy": "2024-10-22T09:24:58.527995Z",
     "iopub.status.idle": "2024-10-22T09:24:59.772808Z",
     "shell.execute_reply": "2024-10-22T09:24:59.771748Z"
    },
    "papermill": {
     "duration": 1.260092,
     "end_time": "2024-10-22T09:24:59.775269",
     "exception": false,
     "start_time": "2024-10-22T09:24:58.515177",
     "status": "completed"
    },
    "tags": []
   },
   "outputs": [
    {
     "name": "stdout",
     "output_type": "stream",
     "text": [
      "Epoch 1/10\n",
      "\u001b[1m18/18\u001b[0m \u001b[32m━━━━━━━━━━━━━━━━━━━━\u001b[0m\u001b[37m\u001b[0m \u001b[1m0s\u001b[0m 6ms/step - accuracy: 0.8313 - loss: 1.6772 - val_accuracy: 0.8392 - val_loss: 1.4436\n",
      "Epoch 2/10\n",
      "\u001b[1m18/18\u001b[0m \u001b[32m━━━━━━━━━━━━━━━━━━━━\u001b[0m\u001b[37m\u001b[0m \u001b[1m0s\u001b[0m 3ms/step - accuracy: 0.8204 - loss: 1.4051 - val_accuracy: 0.8462 - val_loss: 1.2118\n",
      "Epoch 3/10\n",
      "\u001b[1m18/18\u001b[0m \u001b[32m━━━━━━━━━━━━━━━━━━━━\u001b[0m\u001b[37m\u001b[0m \u001b[1m0s\u001b[0m 3ms/step - accuracy: 0.8073 - loss: 1.2038 - val_accuracy: 0.8531 - val_loss: 1.0251\n",
      "Epoch 4/10\n",
      "\u001b[1m18/18\u001b[0m \u001b[32m━━━━━━━━━━━━━━━━━━━━\u001b[0m\u001b[37m\u001b[0m \u001b[1m0s\u001b[0m 3ms/step - accuracy: 0.8368 - loss: 0.9955 - val_accuracy: 0.8531 - val_loss: 0.8873\n",
      "Epoch 5/10\n",
      "\u001b[1m18/18\u001b[0m \u001b[32m━━━━━━━━━━━━━━━━━━━━\u001b[0m\u001b[37m\u001b[0m \u001b[1m0s\u001b[0m 3ms/step - accuracy: 0.8358 - loss: 0.8747 - val_accuracy: 0.8462 - val_loss: 0.7759\n",
      "Epoch 6/10\n",
      "\u001b[1m18/18\u001b[0m \u001b[32m━━━━━━━━━━━━━━━━━━━━\u001b[0m\u001b[37m\u001b[0m \u001b[1m0s\u001b[0m 3ms/step - accuracy: 0.8149 - loss: 0.7828 - val_accuracy: 0.8601 - val_loss: 0.6867\n",
      "Epoch 7/10\n",
      "\u001b[1m18/18\u001b[0m \u001b[32m━━━━━━━━━━━━━━━━━━━━\u001b[0m\u001b[37m\u001b[0m \u001b[1m0s\u001b[0m 4ms/step - accuracy: 0.8154 - loss: 0.7096 - val_accuracy: 0.8671 - val_loss: 0.6166\n",
      "Epoch 8/10\n",
      "\u001b[1m18/18\u001b[0m \u001b[32m━━━━━━━━━━━━━━━━━━━━\u001b[0m\u001b[37m\u001b[0m \u001b[1m0s\u001b[0m 3ms/step - accuracy: 0.8315 - loss: 0.6137 - val_accuracy: 0.8741 - val_loss: 0.5728\n",
      "Epoch 9/10\n",
      "\u001b[1m18/18\u001b[0m \u001b[32m━━━━━━━━━━━━━━━━━━━━\u001b[0m\u001b[37m\u001b[0m \u001b[1m0s\u001b[0m 4ms/step - accuracy: 0.8157 - loss: 0.5905 - val_accuracy: 0.8671 - val_loss: 0.5338\n",
      "Epoch 10/10\n",
      "\u001b[1m18/18\u001b[0m \u001b[32m━━━━━━━━━━━━━━━━━━━━\u001b[0m\u001b[37m\u001b[0m \u001b[1m0s\u001b[0m 4ms/step - accuracy: 0.8036 - loss: 0.5684 - val_accuracy: 0.8531 - val_loss: 0.5042\n"
     ]
    },
    {
     "data": {
      "image/png": "[encoded data removed]",
      "text/plain": [
       "<Figure size 640x480 with 1 Axes>"
      ]
     },
     "metadata": {},
     "output_type": "display_data"
    }
   ],
   "source": [
    "import matplotlib.pyplot as plt\n",
    "%matplotlib inline\n",
    "history = model.fit(X_train, y_train, epochs=10, batch_size=32, validation_split=0.2)\n",
    "plt.plot(history.history['loss'])\n",
    "plt.plot(history.history['val_loss'])\n",
    "plt.title('model loss')\n",
    "plt.ylabel('loss')\n",
    "plt.xlabel('epoch')\n",
    "plt.legend(['train', 'val'], loc='upper left')\n",
    "plt.show()"
   ]
  }
 ],
 "metadata": {
  "kaggle": {
   "accelerator": "none",
   "dataSources": [
    {
     "datasetId": 5924630,
     "sourceId": 9690870,
     "sourceType": "datasetVersion"
    }
   ],
   "dockerImageVersionId": 30786,
   "isGpuEnabled": false,
   "isInternetEnabled": false,
   "language": "python",
   "sourceType": "notebook"
  },
  "kernelspec": {
   "display_name": "Python 3",
   "language": "python",
   "name": "python3"
  },
  "language_info": {
   "codemirror_mode": {
    "name": "ipython",
    "version": 3
   },
   "file_extension": ".py",
   "mimetype": "text/x-python",
   "name": "python",
   "nbconvert_exporter": "python",
   "pygments_lexer": "ipython3",
   "version": "3.10.14"
  },
  "papermill": {
   "default_parameters": {},
   "duration": 27.038128,
   "end_time": "2024-10-22T09:25:01.417014",
   "environment_variables": {},
   "exception": null,
   "input_path": "__notebook__.ipynb",
   "output_path": "__notebook__.ipynb",
   "parameters": {},
   "start_time": "2024-10-22T09:24:34.378886",
   "version": "2.6.0"
  }
 },
 "nbformat": 4,
 "nbformat_minor": 5
}
